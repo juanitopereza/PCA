{
 "cells": [
  {
   "cell_type": "code",
   "execution_count": 1,
   "metadata": {
    "collapsed": true
   },
   "outputs": [],
   "source": [
    "import pandas as pd\n",
    "import numpy as np\n",
    "import matplotlib.pyplot as plt"
   ]
  },
  {
   "cell_type": "code",
   "execution_count": 115,
   "metadata": {},
   "outputs": [],
   "source": [
    "Data = pd.read_csv('DatosBancoMundial5.csv')\n",
    "datos = Data.values[:,4:].astype(np.float64)\n",
    "for i in range(5):\n",
    "    datos[i,:] = datos[i,:] - np.mean(datos[i,:])"
   ]
  },
  {
   "cell_type": "code",
   "execution_count": 103,
   "metadata": {
    "scrolled": true
   },
   "outputs": [
    {
     "data": {
      "text/html": [
       "<div>\n",
       "<style>\n",
       "    .dataframe thead tr:only-child th {\n",
       "        text-align: right;\n",
       "    }\n",
       "\n",
       "    .dataframe thead th {\n",
       "        text-align: left;\n",
       "    }\n",
       "\n",
       "    .dataframe tbody tr th {\n",
       "        vertical-align: top;\n",
       "    }\n",
       "</style>\n",
       "<table border=\"1\" class=\"dataframe\">\n",
       "  <thead>\n",
       "    <tr style=\"text-align: right;\">\n",
       "      <th></th>\n",
       "      <th>Time</th>\n",
       "      <th>Time Code</th>\n",
       "      <th>Series Name</th>\n",
       "      <th>Series Code</th>\n",
       "      <th>Colombia [COL]</th>\n",
       "      <th>Latin America &amp; Caribbean [LCN]</th>\n",
       "      <th>Afghanistan [AFG]</th>\n",
       "      <th>Albania [ALB]</th>\n",
       "      <th>Algeria [DZA]</th>\n",
       "      <th>Angola [AGO]</th>\n",
       "      <th>...</th>\n",
       "      <th>Uruguay [URY]</th>\n",
       "      <th>Uzbekistan [UZB]</th>\n",
       "      <th>Vanuatu [VUT]</th>\n",
       "      <th>Venezuela, RB [VEN]</th>\n",
       "      <th>Vietnam [VNM]</th>\n",
       "      <th>West Bank and Gaza [PSE]</th>\n",
       "      <th>World [WLD]</th>\n",
       "      <th>Yemen, Rep. [YEM]</th>\n",
       "      <th>Zambia [ZMB]</th>\n",
       "      <th>Zimbabwe [ZWE]</th>\n",
       "    </tr>\n",
       "  </thead>\n",
       "  <tbody>\n",
       "    <tr>\n",
       "      <th>0</th>\n",
       "      <td>2016</td>\n",
       "      <td>YR2016</td>\n",
       "      <td>Total tax rate (% of commercial profits)</td>\n",
       "      <td>IC.TAX.TOTL.CP.ZS</td>\n",
       "      <td>69.800000</td>\n",
       "      <td>45.821212</td>\n",
       "      <td>48.300000</td>\n",
       "      <td>36.500000</td>\n",
       "      <td>65.600000</td>\n",
       "      <td>48.000000</td>\n",
       "      <td>...</td>\n",
       "      <td>41.800000</td>\n",
       "      <td>38.100000</td>\n",
       "      <td>8.500000</td>\n",
       "      <td>64.700000</td>\n",
       "      <td>39.400000</td>\n",
       "      <td>15.300000</td>\n",
       "      <td>40.551323</td>\n",
       "      <td>33.100000</td>\n",
       "      <td>18.600000</td>\n",
       "      <td>32.800000</td>\n",
       "    </tr>\n",
       "    <tr>\n",
       "      <th>1</th>\n",
       "      <td>2016</td>\n",
       "      <td>YR2016</td>\n",
       "      <td>Cost of business start-up procedures (% of GNI...</td>\n",
       "      <td>IC.REG.COST.PC.ZS</td>\n",
       "      <td>7.500000</td>\n",
       "      <td>30.557576</td>\n",
       "      <td>19.900000</td>\n",
       "      <td>10.100000</td>\n",
       "      <td>11.100000</td>\n",
       "      <td>27.500000</td>\n",
       "      <td>...</td>\n",
       "      <td>22.500000</td>\n",
       "      <td>3.200000</td>\n",
       "      <td>44.300000</td>\n",
       "      <td>136.400000</td>\n",
       "      <td>4.600000</td>\n",
       "      <td>46.900000</td>\n",
       "      <td>25.949474</td>\n",
       "      <td>82.200000</td>\n",
       "      <td>33.700000</td>\n",
       "      <td>119.200000</td>\n",
       "    </tr>\n",
       "    <tr>\n",
       "      <th>2</th>\n",
       "      <td>2016</td>\n",
       "      <td>YR2016</td>\n",
       "      <td>Unemployment, female (% of female labor force)...</td>\n",
       "      <td>SL.UEM.TOTL.FE.ZS</td>\n",
       "      <td>13.058000</td>\n",
       "      <td>9.949513</td>\n",
       "      <td>12.368000</td>\n",
       "      <td>16.136000</td>\n",
       "      <td>19.684000</td>\n",
       "      <td>7.068000</td>\n",
       "      <td>...</td>\n",
       "      <td>11.206000</td>\n",
       "      <td>8.745000</td>\n",
       "      <td>6.157000</td>\n",
       "      <td>7.636000</td>\n",
       "      <td>2.107000</td>\n",
       "      <td>27.934000</td>\n",
       "      <td>6.178867</td>\n",
       "      <td>28.374001</td>\n",
       "      <td>7.706000</td>\n",
       "      <td>4.668000</td>\n",
       "    </tr>\n",
       "    <tr>\n",
       "      <th>3</th>\n",
       "      <td>2016</td>\n",
       "      <td>YR2016</td>\n",
       "      <td>Unemployment, male (% of male labor force) (mo...</td>\n",
       "      <td>SL.UEM.TOTL.MA.ZS</td>\n",
       "      <td>7.429000</td>\n",
       "      <td>6.727447</td>\n",
       "      <td>7.722000</td>\n",
       "      <td>16.469000</td>\n",
       "      <td>9.202000</td>\n",
       "      <td>6.186000</td>\n",
       "      <td>...</td>\n",
       "      <td>5.704000</td>\n",
       "      <td>8.997000</td>\n",
       "      <td>4.744000</td>\n",
       "      <td>6.400000</td>\n",
       "      <td>2.244000</td>\n",
       "      <td>24.173000</td>\n",
       "      <td>5.464462</td>\n",
       "      <td>13.073000</td>\n",
       "      <td>7.375000</td>\n",
       "      <td>5.487000</td>\n",
       "    </tr>\n",
       "    <tr>\n",
       "      <th>4</th>\n",
       "      <td>2016</td>\n",
       "      <td>YR2016</td>\n",
       "      <td>Ratio of female to male labor force participat...</td>\n",
       "      <td>SL.TLF.CACT.FM.ZS</td>\n",
       "      <td>72.604847</td>\n",
       "      <td>67.527627</td>\n",
       "      <td>22.960331</td>\n",
       "      <td>66.248318</td>\n",
       "      <td>23.969858</td>\n",
       "      <td>77.585963</td>\n",
       "      <td>...</td>\n",
       "      <td>72.744665</td>\n",
       "      <td>63.395067</td>\n",
       "      <td>76.630413</td>\n",
       "      <td>65.695692</td>\n",
       "      <td>88.722599</td>\n",
       "      <td>26.067661</td>\n",
       "      <td>67.668014</td>\n",
       "      <td>35.423165</td>\n",
       "      <td>86.347736</td>\n",
       "      <td>89.137578</td>\n",
       "    </tr>\n",
       "  </tbody>\n",
       "</table>\n",
       "<p>5 rows × 227 columns</p>\n",
       "</div>"
      ],
      "text/plain": [
       "   Time Time Code                                        Series Name  \\\n",
       "0  2016    YR2016           Total tax rate (% of commercial profits)   \n",
       "1  2016    YR2016  Cost of business start-up procedures (% of GNI...   \n",
       "2  2016    YR2016  Unemployment, female (% of female labor force)...   \n",
       "3  2016    YR2016  Unemployment, male (% of male labor force) (mo...   \n",
       "4  2016    YR2016  Ratio of female to male labor force participat...   \n",
       "\n",
       "         Series Code  Colombia [COL]  Latin America & Caribbean [LCN]  \\\n",
       "0  IC.TAX.TOTL.CP.ZS       69.800000                        45.821212   \n",
       "1  IC.REG.COST.PC.ZS        7.500000                        30.557576   \n",
       "2  SL.UEM.TOTL.FE.ZS       13.058000                         9.949513   \n",
       "3  SL.UEM.TOTL.MA.ZS        7.429000                         6.727447   \n",
       "4  SL.TLF.CACT.FM.ZS       72.604847                        67.527627   \n",
       "\n",
       "   Afghanistan [AFG]  Albania [ALB]  Algeria [DZA]  Angola [AGO]  \\\n",
       "0          48.300000      36.500000      65.600000     48.000000   \n",
       "1          19.900000      10.100000      11.100000     27.500000   \n",
       "2          12.368000      16.136000      19.684000      7.068000   \n",
       "3           7.722000      16.469000       9.202000      6.186000   \n",
       "4          22.960331      66.248318      23.969858     77.585963   \n",
       "\n",
       "        ...        Uruguay [URY]  Uzbekistan [UZB]  Vanuatu [VUT]  \\\n",
       "0       ...            41.800000         38.100000       8.500000   \n",
       "1       ...            22.500000          3.200000      44.300000   \n",
       "2       ...            11.206000          8.745000       6.157000   \n",
       "3       ...             5.704000          8.997000       4.744000   \n",
       "4       ...            72.744665         63.395067      76.630413   \n",
       "\n",
       "   Venezuela, RB [VEN]  Vietnam [VNM]  West Bank and Gaza [PSE]  World [WLD]  \\\n",
       "0            64.700000      39.400000                 15.300000    40.551323   \n",
       "1           136.400000       4.600000                 46.900000    25.949474   \n",
       "2             7.636000       2.107000                 27.934000     6.178867   \n",
       "3             6.400000       2.244000                 24.173000     5.464462   \n",
       "4            65.695692      88.722599                 26.067661    67.668014   \n",
       "\n",
       "   Yemen, Rep. [YEM]  Zambia [ZMB]  Zimbabwe [ZWE]  \n",
       "0          33.100000     18.600000       32.800000  \n",
       "1          82.200000     33.700000      119.200000  \n",
       "2          28.374001      7.706000        4.668000  \n",
       "3          13.073000      7.375000        5.487000  \n",
       "4          35.423165     86.347736       89.137578  \n",
       "\n",
       "[5 rows x 227 columns]"
      ]
     },
     "execution_count": 103,
     "metadata": {},
     "output_type": "execute_result"
    }
   ],
   "source": [
    "Data"
   ]
  },
  {
   "cell_type": "code",
   "execution_count": 116,
   "metadata": {},
   "outputs": [
    {
     "name": "stdout",
     "output_type": "stream",
     "text": [
      "(5, 223) <type 'numpy.float64'>\n"
     ]
    }
   ],
   "source": [
    "print np.shape(datos), type(datos[0,0])"
   ]
  },
  {
   "cell_type": "code",
   "execution_count": 117,
   "metadata": {},
   "outputs": [],
   "source": [
    "Cova = np.cov(datos)"
   ]
  },
  {
   "cell_type": "code",
   "execution_count": 118,
   "metadata": {
    "collapsed": true
   },
   "outputs": [],
   "source": [
    "vals, vecs = np.linalg.eig(Cova)"
   ]
  },
  {
   "cell_type": "code",
   "execution_count": 119,
   "metadata": {},
   "outputs": [
    {
     "data": {
      "text/plain": [
       "array([ 1153.05465923,   305.31103811,   373.56309746,    71.04135595,\n",
       "           4.27342312])"
      ]
     },
     "execution_count": 119,
     "metadata": {},
     "output_type": "execute_result"
    }
   ],
   "source": [
    "vals"
   ]
  },
  {
   "cell_type": "code",
   "execution_count": 120,
   "metadata": {},
   "outputs": [
    {
     "data": {
      "text/plain": [
       "array([[  2.13820341e-01,   9.66977886e-01,   1.38080487e-01,\n",
       "         -9.75951262e-03,   8.55346232e-03],\n",
       "       [  9.76498437e-01,  -2.14321181e-01,  -9.29434474e-03,\n",
       "          1.68995803e-02,  -1.20520582e-02],\n",
       "       [  1.34408573e-02,  -4.16882759e-02,   1.79028285e-01,\n",
       "         -7.86664227e-01,   5.89228053e-01],\n",
       "       [ -5.48162881e-04,  -6.05489076e-03,   5.13482776e-02,\n",
       "         -5.90983303e-01,  -8.05024923e-01],\n",
       "       [  2.34671299e-02,   1.31322603e-01,  -9.72707367e-01,\n",
       "         -1.77531082e-01,   6.72812081e-02]])"
      ]
     },
     "execution_count": 120,
     "metadata": {},
     "output_type": "execute_result"
    }
   ],
   "source": [
    "vecs"
   ]
  },
  {
   "cell_type": "code",
   "execution_count": null,
   "metadata": {
    "collapsed": true
   },
   "outputs": [],
   "source": []
  }
 ],
 "metadata": {
  "kernelspec": {
   "display_name": "Python 2",
   "language": "python",
   "name": "python2"
  },
  "language_info": {
   "codemirror_mode": {
    "name": "ipython",
    "version": 2
   },
   "file_extension": ".py",
   "mimetype": "text/x-python",
   "name": "python",
   "nbconvert_exporter": "python",
   "pygments_lexer": "ipython2",
   "version": "2.7.13"
  }
 },
 "nbformat": 4,
 "nbformat_minor": 2
}
